{
 "cells": [
  {
   "cell_type": "code",
   "execution_count": 1,
   "metadata": {},
   "outputs": [
    {
     "data": {
      "text/plain": [
       "33"
      ]
     },
     "execution_count": 1,
     "metadata": {},
     "output_type": "execute_result"
    }
   ],
   "source": [
    "1+ 2**3*4"
   ]
  },
  {
   "cell_type": "code",
   "execution_count": 2,
   "metadata": {},
   "outputs": [
    {
     "name": "stdout",
     "output_type": "stream",
     "text": [
      "<class 'int'>\n",
      "<class 'str'>\n"
     ]
    }
   ],
   "source": [
    "elem=10\n",
    "print(type(elem))\n",
    "elem=\"Hello\"\n",
    "print(type(elem))"
   ]
  },
  {
   "cell_type": "code",
   "execution_count": 3,
   "metadata": {},
   "outputs": [
    {
     "data": {
      "text/plain": [
       "'pythonprog'"
      ]
     },
     "execution_count": 3,
     "metadata": {},
     "output_type": "execute_result"
    }
   ],
   "source": [
    "def demofun(a):\n",
    "    aa=a+'1'\n",
    "    aa=a*1\n",
    "    return a\n",
    "demofun(\"pythonprog\")"
   ]
  },
  {
   "cell_type": "code",
   "execution_count": 4,
   "metadata": {},
   "outputs": [
    {
     "name": "stdout",
     "output_type": "stream",
     "text": [
      ".ma\n"
     ]
    }
   ],
   "source": [
    "data = 'From stephen.marquard@uct.ac.za Sat Jan 509:14:16 2008'\n",
    "pos =data.find ('.')\n",
    "print (data[pos : pos+3])"
   ]
  },
  {
   "cell_type": "code",
   "execution_count": 7,
   "metadata": {},
   "outputs": [
    {
     "name": "stdout",
     "output_type": "stream",
     "text": [
      "{1: 'One', 2: 'Two', 3: 'Three', 4: 'Four'}\n"
     ]
    }
   ],
   "source": [
    "A={1:\"One\",2:\"Two\",3:\"Three\"}\n",
    "A[4]=\"Four\"\n",
    "print(A)"
   ]
  },
  {
   "cell_type": "code",
   "execution_count": 8,
   "metadata": {},
   "outputs": [],
   "source": [
    "def print_f(file):\n",
    "    file1 = open(\"demo\", \"r\")\n",
    "    for line in \"file1\" :\n",
    "        print(line_obj)\n"
   ]
  },
  {
   "cell_type": "code",
   "execution_count": 9,
   "metadata": {},
   "outputs": [
    {
     "name": "stdout",
     "output_type": "stream",
     "text": [
      "<class 'float'>\n",
      "<class 'int'>\n"
     ]
    }
   ],
   "source": [
    "print(type(5/2))\n",
    "print(type(5//2))"
   ]
  },
  {
   "cell_type": "code",
   "execution_count": 11,
   "metadata": {},
   "outputs": [
    {
     "name": "stdout",
     "output_type": "stream",
     "text": [
      "24\n"
     ]
    }
   ],
   "source": [
    "a = \"5, 4, 6\"\n",
    "nums =a.split(\",\")\n",
    "X, y, z = nums\n",
    "prod =int(y) *int(z)\n",
    "print(prod)"
   ]
  },
  {
   "cell_type": "code",
   "execution_count": 12,
   "metadata": {},
   "outputs": [
    {
     "name": "stdout",
     "output_type": "stream",
     "text": [
      "['AA', 'BB', 'CC']\n"
     ]
    }
   ],
   "source": [
    "a =  [ 'AA', 'BB', 'CC']\n",
    "for i in a:\n",
    "    i.lower ()\n",
    "    \n",
    "print(a)"
   ]
  },
  {
   "cell_type": "code",
   "execution_count": 14,
   "metadata": {},
   "outputs": [
    {
     "name": "stdout",
     "output_type": "stream",
     "text": [
      "<class 'list'>\n"
     ]
    }
   ],
   "source": [
    "n =(4, 7, 19, 2, 89, 45, 72, 22)\n",
    "sort_num = sorted (n)\n",
    "print(type(sort_num))"
   ]
  },
  {
   "cell_type": "code",
   "execution_count": 15,
   "metadata": {},
   "outputs": [
    {
     "ename": "TypeError",
     "evalue": "'tuple' object does not support item assignment",
     "output_type": "error",
     "traceback": [
      "\u001b[1;31m---------------------------------------------------------------------------\u001b[0m",
      "\u001b[1;31mTypeError\u001b[0m                                 Traceback (most recent call last)",
      "\u001b[1;32m~\\AppData\\Local\\Temp/ipykernel_18612/2129996432.py\u001b[0m in \u001b[0;36m<module>\u001b[1;34m\u001b[0m\n\u001b[0;32m      1\u001b[0m \u001b[0ma\u001b[0m \u001b[1;33m=\u001b[0m \u001b[1;33m[\u001b[0m\u001b[1;36m6\u001b[0m\u001b[1;33m,\u001b[0m \u001b[1;36m8\u001b[0m\u001b[1;33m,\u001b[0m \u001b[1;36m3\u001b[0m\u001b[1;33m]\u001b[0m\u001b[1;33m\u001b[0m\u001b[1;33m\u001b[0m\u001b[0m\n\u001b[0;32m      2\u001b[0m \u001b[0ma\u001b[0m \u001b[1;33m=\u001b[0m \u001b[0mtuple\u001b[0m\u001b[1;33m(\u001b[0m\u001b[0ma\u001b[0m\u001b[1;33m)\u001b[0m\u001b[1;33m\u001b[0m\u001b[1;33m\u001b[0m\u001b[0m\n\u001b[1;32m----> 3\u001b[1;33m \u001b[0ma\u001b[0m\u001b[1;33m[\u001b[0m\u001b[1;36m0\u001b[0m\u001b[1;33m]\u001b[0m \u001b[1;33m=\u001b[0m \u001b[1;36m5\u001b[0m\u001b[1;33m\u001b[0m\u001b[1;33m\u001b[0m\u001b[0m\n\u001b[0m\u001b[0;32m      4\u001b[0m \u001b[0mprint\u001b[0m \u001b[1;33m(\u001b[0m\u001b[0ma\u001b[0m\u001b[1;33m)\u001b[0m\u001b[1;33m\u001b[0m\u001b[1;33m\u001b[0m\u001b[0m\n",
      "\u001b[1;31mTypeError\u001b[0m: 'tuple' object does not support item assignment"
     ]
    }
   ],
   "source": [
    "a = [6, 8, 3]\n",
    "a = tuple(a)\n",
    "a[0] = 5\n",
    "print (a)"
   ]
  },
  {
   "cell_type": "code",
   "execution_count": 16,
   "metadata": {},
   "outputs": [
    {
     "name": "stdout",
     "output_type": "stream",
     "text": [
      "3\n"
     ]
    }
   ],
   "source": [
    "print(chr(51))"
   ]
  },
  {
   "cell_type": "code",
   "execution_count": 17,
   "metadata": {},
   "outputs": [],
   "source": [
    "L=[2,1,2,4,5,3,6]\n",
    "K=4"
   ]
  },
  {
   "cell_type": "code",
   "execution_count": 19,
   "metadata": {},
   "outputs": [
    {
     "name": "stdout",
     "output_type": "stream",
     "text": [
      "RcoemN\n"
     ]
    }
   ],
   "source": [
    "s='aabRcoemNaab'.strip('a').strip('b').strip('a')\n",
    "print(s)"
   ]
  },
  {
   "cell_type": "code",
   "execution_count": 20,
   "metadata": {},
   "outputs": [
    {
     "ename": "NameError",
     "evalue": "name 'RcoemN' is not defined",
     "output_type": "error",
     "traceback": [
      "\u001b[1;31m---------------------------------------------------------------------------\u001b[0m",
      "\u001b[1;31mNameError\u001b[0m                                 Traceback (most recent call last)",
      "\u001b[1;32m~\\AppData\\Local\\Temp/ipykernel_18612/1058280864.py\u001b[0m in \u001b[0;36m<module>\u001b[1;34m\u001b[0m\n\u001b[1;32m----> 1\u001b[1;33m \u001b[0ms\u001b[0m\u001b[1;33m=\u001b[0m \u001b[0mRcoemN\u001b[0m\u001b[1;33m;\u001b[0m \u001b[0ms\u001b[0m \u001b[1;33m=\u001b[0m \u001b[0ms\u001b[0m\u001b[1;33m[\u001b[0m\u001b[1;33m:\u001b[0m\u001b[1;36m2\u001b[0m\u001b[1;33m]\u001b[0m \u001b[1;33m+\u001b[0m \u001b[0ms\u001b[0m\u001b[1;33m[\u001b[0m\u001b[1;36m2\u001b[0m\u001b[1;33m]\u001b[0m\u001b[1;33m.\u001b[0m\u001b[0mupper\u001b[0m\u001b[1;33m(\u001b[0m\u001b[1;33m)\u001b[0m \u001b[1;33m+\u001b[0m\u001b[0ms\u001b[0m\u001b[1;33m[\u001b[0m\u001b[1;36m3\u001b[0m\u001b[1;33m:\u001b[0m\u001b[1;33m]\u001b[0m\u001b[1;33m;\u001b[0m\u001b[1;33m\u001b[0m\u001b[1;33m\u001b[0m\u001b[0m\n\u001b[0m\u001b[0;32m      2\u001b[0m \u001b[0mprint\u001b[0m\u001b[1;33m(\u001b[0m\u001b[0ms\u001b[0m\u001b[1;33m)\u001b[0m\u001b[1;33m\u001b[0m\u001b[1;33m\u001b[0m\u001b[0m\n",
      "\u001b[1;31mNameError\u001b[0m: name 'RcoemN' is not defined"
     ]
    }
   ],
   "source": [
    "s= RcoemN; s = s[:2] + s[2].upper() +s[3:];\n",
    "print(s)"
   ]
  },
  {
   "cell_type": "code",
   "execution_count": 22,
   "metadata": {},
   "outputs": [
    {
     "ename": "NameError",
     "evalue": "name 'RcoemN' is not defined",
     "output_type": "error",
     "traceback": [
      "\u001b[1;31m---------------------------------------------------------------------------\u001b[0m",
      "\u001b[1;31mNameError\u001b[0m                                 Traceback (most recent call last)",
      "\u001b[1;32m~\\AppData\\Local\\Temp/ipykernel_18612/149321116.py\u001b[0m in \u001b[0;36m<module>\u001b[1;34m\u001b[0m\n\u001b[1;32m----> 1\u001b[1;33m \u001b[0ms\u001b[0m\u001b[1;33m=\u001b[0m\u001b[0mRcoemN\u001b[0m\u001b[1;33m\u001b[0m\u001b[1;33m\u001b[0m\u001b[0m\n\u001b[0m\u001b[0;32m      2\u001b[0m \u001b[0mprint\u001b[0m\u001b[1;33m(\u001b[0m\u001b[0ms\u001b[0m\u001b[1;33m)\u001b[0m\u001b[1;33m\u001b[0m\u001b[1;33m\u001b[0m\u001b[0m\n",
      "\u001b[1;31mNameError\u001b[0m: name 'RcoemN' is not defined"
     ]
    }
   ],
   "source": [
    "s=RcoemN\n",
    "print(s)"
   ]
  },
  {
   "cell_type": "code",
   "execution_count": 23,
   "metadata": {},
   "outputs": [
    {
     "ename": "SyntaxError",
     "evalue": "invalid syntax (Temp/ipykernel_18612/1094667476.py, line 1)",
     "output_type": "error",
     "traceback": [
      "\u001b[1;36m  File \u001b[1;32m\"C:\\Users\\asus\\AppData\\Local\\Temp/ipykernel_18612/1094667476.py\"\u001b[1;36m, line \u001b[1;32m1\u001b[0m\n\u001b[1;33m    L=[for i in range(1,5):i]\u001b[0m\n\u001b[1;37m       ^\u001b[0m\n\u001b[1;31mSyntaxError\u001b[0m\u001b[1;31m:\u001b[0m invalid syntax\n"
     ]
    }
   ],
   "source": [
    "L = [for i in range(1,5):i]"
   ]
  },
  {
   "cell_type": "code",
   "execution_count": 24,
   "metadata": {},
   "outputs": [],
   "source": [
    "L = [i for i in range(1,5)]"
   ]
  },
  {
   "cell_type": "code",
   "execution_count": 25,
   "metadata": {},
   "outputs": [],
   "source": [
    "L=[1,2,3,4]"
   ]
  },
  {
   "cell_type": "code",
   "execution_count": 26,
   "metadata": {},
   "outputs": [
    {
     "ename": "SyntaxError",
     "evalue": "invalid syntax (Temp/ipykernel_18612/2743914117.py, line 1)",
     "output_type": "error",
     "traceback": [
      "\u001b[1;36m  File \u001b[1;32m\"C:\\Users\\asus\\AppData\\Local\\Temp/ipykernel_18612/2743914117.py\"\u001b[1;36m, line \u001b[1;32m1\u001b[0m\n\u001b[1;33m    L=[for i in range(1,5)i]\u001b[0m\n\u001b[1;37m       ^\u001b[0m\n\u001b[1;31mSyntaxError\u001b[0m\u001b[1;31m:\u001b[0m invalid syntax\n"
     ]
    }
   ],
   "source": [
    "L=[for i in range(1,5)i]"
   ]
  },
  {
   "cell_type": "code",
   "execution_count": 2,
   "metadata": {},
   "outputs": [
    {
     "ename": "ModuleNotFoundError",
     "evalue": "No module named 'Raspi_MotorHAT'",
     "output_type": "error",
     "traceback": [
      "\u001b[1;31m---------------------------------------------------------------------------\u001b[0m",
      "\u001b[1;31mModuleNotFoundError\u001b[0m                       Traceback (most recent call last)",
      "\u001b[1;32m~\\AppData\\Local\\Temp/ipykernel_8572/2959253025.py\u001b[0m in \u001b[0;36m<module>\u001b[1;34m\u001b[0m\n\u001b[1;32m----> 1\u001b[1;33m \u001b[1;32mfrom\u001b[0m \u001b[0mRaspi_MotorHAT\u001b[0m \u001b[1;32mimport\u001b[0m \u001b[0mRaspi_MotorHAT\u001b[0m\u001b[1;33m\u001b[0m\u001b[1;33m\u001b[0m\u001b[0m\n\u001b[0m\u001b[0;32m      2\u001b[0m \u001b[1;32mimport\u001b[0m \u001b[0msmbus\u001b[0m\u001b[1;33m\u001b[0m\u001b[1;33m\u001b[0m\u001b[0m\n\u001b[0;32m      3\u001b[0m \u001b[1;32mimport\u001b[0m \u001b[0mtime\u001b[0m\u001b[1;33m\u001b[0m\u001b[1;33m\u001b[0m\u001b[0m\n\u001b[0;32m      4\u001b[0m \u001b[1;32mimport\u001b[0m \u001b[0matexit\u001b[0m\u001b[1;33m\u001b[0m\u001b[1;33m\u001b[0m\u001b[0m\n\u001b[0;32m      5\u001b[0m \u001b[1;33m\u001b[0m\u001b[0m\n",
      "\u001b[1;31mModuleNotFoundError\u001b[0m: No module named 'Raspi_MotorHAT'"
     ]
    }
   ],
   "source": [
    "from Raspi_MotorHAT import Raspi_MotorHAT\n",
    "import smbus\n",
    "import time\n",
    "import atexit\n",
    "\n",
    "DEVICE_BUS = 1  #this is a relay HAT to power motors**\n",
    "DEVICE_ADDR = 0x10\n",
    "bus = smbus.SMBus(DEVICE_BUS)\n",
    "bus.write_byte_data(0x10, 1, 0xFF)\n",
    "\n",
    "mh = Raspi_MotorHAT(addr=0x6f)  #this is the motor controlling HAT**\n",
    "m1 = mh.getMotor(1)\n",
    "m2 = mh.getMotor(2)\n",
    "m3 = mh.getMotor(3)\n",
    "m4 = mh.getMotor(4)\n",
    "\n",
    "def turn_off_motors():\n",
    "        m1.run(Raspi_MotorHAT.RELEASE)\n",
    "        m2.run(Raspi_MotorHAT.RELEASE)\n",
    "        m3.run(Raspi_MotorHAT.RELEASE)\n",
    "        m4.run(Raspi_MotorHAT.RELEASE)\n",
    "\n",
    "atexit.register(turn_off_motors)\n",
    "\n",
    "m1.setSpeed(50)\n",
    "m2.setSpeed(50)\n",
    "m3.setSpeed(50)\n",
    "m4.setSpeed(50)\n",
    "\n",
    "#straight forward\n",
    "print(\"straight forward\")\n",
    "m1.run(Raspi_MotorHAT.FORWARD)  #all wheels function normally on this command**\n",
    "m2.run(Raspi_MotorHAT.FORWARD)\n",
    "m3.run(Raspi_MotorHAT.FORWARD)\n",
    "m4.run(Raspi_MotorHAT.FORWARD)\n",
    "time.sleep(4)\n",
    "turn_off_motors()\n",
    "time.sleep(1)\n",
    "\n",
    "#turn left\n",
    "print(\"turn left\")\n",
    "time.sleep(2)\n",
    "m2.run(Raspi_MotorHAT.FORWARD)  # wheel functions normally on this command**\n",
    "m4.run(Raspi_MotorHAT.FORWARD)  # wheel does not function on this command**\n",
    "time.sleep(2)\n",
    "turn_off_motors()\n",
    "\n",
    "#turn right\n",
    "print(\"turn right\")\n",
    "time.sleep(2)\n",
    "m1.run(Raspi_MotorHAT.FORWARD)  # wheel functions normally on this command**\n",
    "m3.run(Raspi_MotorHAT.FORWARD)  # wheel does not function on this command**\n",
    "time.sleep(2)\n",
    "turn_off_motors()\n",
    "\n",
    "#horizontal left\n",
    "print(\"horizontal left\")\n",
    "time.sleep(2)\n",
    "m1.run(Raspi_MotorHAT.BACKWARD)  # wheel functions normally on this command**\n",
    "m2.run(Raspi_MotorHAT.FORWARD)  # wheel functions normally on this command**\n",
    "m3.run(Raspi_MotorHAT.BACKWARD)  # wheel does not function on this command**\n",
    "m4.run(Raspi_MotorHAT.FORWARD)  # wheel does not function on this command**\n",
    "time.sleep(2)\n",
    "turn_off_motors()\n",
    "\n",
    "#spin left\n",
    "print(\"spin left\")\n",
    "time.sleep(2)\n",
    "m1.run(Raspi_MotorHAT.BACKWARD)  # wheel functions normally on this command**\n",
    "m2.run(Raspi_MotorHAT.FORWARD)  # wheel functions normally on this command**\n",
    "m3.run(Raspi_MotorHAT.FORWARD)  # wheel does not function on this command**\n",
    "m4.run(Raspi_MotorHAT.BACKWARD)  # wheel does not function on this command**\n",
    "time.sleep(2)\n",
    "turn_off_motors()\n",
    "\n",
    "#spin right\n",
    "print(\"spin right\")\n",
    "time.sleep(4)\n",
    "m1.run(Raspi_MotorHAT.FORWARD)  # wheel functions normally on this command**\n",
    "m2.run(Raspi_MotorHAT.BACKWARD)  # wheel functions normally on this command**\n",
    "m3.run(Raspi_MotorHAT.BACKWARD)  # wheel does not function on this command**\n",
    "m4.run(Raspi_MotorHAT.FORWARD)  # wheel does not function on this command**\n",
    "time.sleep(2)\n",
    "turn_off_motors()\n",
    "\n",
    "#horizontal right\n",
    "print(\"horizontal right\")\n",
    "time.sleep(4)\n",
    "m1.run(Raspi_MotorHAT.FORWARD)  # wheel functions normally on this command**\n",
    "m2.run(Raspi_MotorHAT.BACKWARD)  # wheel functions normally on this command**\n",
    "m3.run(Raspi_MotorHAT.FORWARD)  # wheel does not function on this command**\n",
    "m4.run(Raspi_MotorHAT.BACKWARD)  # wheel does not function on this command**\n",
    "time.sleep(2)\n",
    "turn_off_motors()\n",
    "\n",
    "#back left\n",
    "print(\"1 & 3 back left\")\n",
    "time.sleep(4)\n",
    "m1.run(Raspi_MotorHAT.BACKWARD)  # wheel functions normally on this command**\n",
    "m3.run(Raspi_MotorHAT.BACKWARD)  # wheel does not function on this command**\n",
    "time.sleep(2)\n",
    "turn_off_motors()\n",
    "\n",
    "#straight backwards\n",
    "print(\"straight backwards\")\n",
    "time.sleep(2)\n",
    "m1.run(Raspi_MotorHAT.BACKWARD)  #all wheels function normally on this command**\n",
    "m2.run(Raspi_MotorHAT.BACKWARD)\n",
    "m3.run(Raspi_MotorHAT.BACKWARD)\n",
    "m4.run(Raspi_MotorHAT.BACKWARD)\n",
    "time.sleep(2)\n",
    "\n",
    "turn_off_motors()\n",
    "time.sleep(1)\n",
    "bus.write_byte_data(0x10, 1, 0x00)\n",
    "\n",
    "\n",
    "\n"
   ]
  },
  {
   "cell_type": "code",
   "execution_count": null,
   "metadata": {},
   "outputs": [],
   "source": []
  }
 ],
 "metadata": {
  "interpreter": {
   "hash": "06cb67651ce969e244f20f184e33f4ddb1106793adfe07cf7ddc131c95c4012f"
  },
  "kernelspec": {
   "display_name": "Python 3.9.5 64-bit",
   "language": "python",
   "name": "python3"
  },
  "language_info": {
   "codemirror_mode": {
    "name": "ipython",
    "version": 3
   },
   "file_extension": ".py",
   "mimetype": "text/x-python",
   "name": "python",
   "nbconvert_exporter": "python",
   "pygments_lexer": "ipython3",
   "version": "3.9.5"
  },
  "orig_nbformat": 4
 },
 "nbformat": 4,
 "nbformat_minor": 2
}
