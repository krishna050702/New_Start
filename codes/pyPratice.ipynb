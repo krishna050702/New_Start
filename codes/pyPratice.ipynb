{
 "cells": [
  {
   "cell_type": "code",
   "execution_count": 1,
   "metadata": {},
   "outputs": [
    {
     "name": "stdout",
     "output_type": "stream",
     "text": [
      "Number is odd\n"
     ]
    }
   ],
   "source": [
    "def evenodd(a):\n",
    "    if(a%2==0):\n",
    "        return 1\n",
    "    else:\n",
    "        return -1\n",
    "a=int(input(\"Enter a number: \"))\n",
    "flag=evenodd(a)\n",
    "if(flag==1):\n",
    "    print(\"Number is even\")\n",
    "if(flag==-1):\n",
    "    print(\"Number is odd\")"
   ]
  },
  {
   "cell_type": "code",
   "execution_count": 2,
   "metadata": {},
   "outputs": [
    {
     "name": "stdout",
     "output_type": "stream",
     "text": [
      "Minutes =  320\n"
     ]
    }
   ],
   "source": [
    "def con_time_in_min(hrs,minute):\n",
    "    minute=hrs*60+minute\n",
    "    return minute\n",
    "h=int(input(\"Enter the hours: \"))\n",
    "m=int(input(\"Enter the minutes: \"))\n",
    "m=con_time_in_min(h,m)\n",
    "print(\"Minutes = \",m)"
   ]
  },
  {
   "cell_type": "code",
   "execution_count": 4,
   "metadata": {},
   "outputs": [
    {
     "name": "stdout",
     "output_type": "stream",
     "text": [
      "The factorial of 5 is 120\n"
     ]
    }
   ],
   "source": [
    "def fact(n):\n",
    "    if(n==1 or n==0):\n",
    "        return 1\n",
    "    else:\n",
    "        return n*fact(n-1)\n",
    "n=int(input(\"Enter a number to find factorial: \"))\n",
    "print(\"The factorial of\",n,\"is\",fact(n))"
   ]
  },
  {
   "cell_type": "code",
   "execution_count": 5,
   "metadata": {},
   "outputs": [
    {
     "name": "stdout",
     "output_type": "stream",
     "text": [
      "The GCD of numbers is 4\n"
     ]
    }
   ],
   "source": [
    "def GCD(x,y):\n",
    "    rem=x%y\n",
    "    if(rem==0):\n",
    "        return y\n",
    "    else:\n",
    "        return GCD(y,rem)\n",
    "n=int(input(\"Enter the first number: \"))\n",
    "m=int(input(\"Enter the second number: \"))\n",
    "print(\"The GCD of numbers is\",GCD(n,m))"
   ]
  },
  {
   "cell_type": "code",
   "execution_count": 6,
   "metadata": {},
   "outputs": [
    {
     "name": "stdout",
     "output_type": "stream",
     "text": [
      "Result=  125\n"
     ]
    }
   ],
   "source": [
    "def exp(x,y):\n",
    "    if(y==0):\n",
    "        return 1\n",
    "    else:\n",
    "        return (x*exp(x,y-1))\n",
    "n=int(input(\"Enter the first number: \"))\n",
    "m=int(input(\"Enter the second number: \"))\n",
    "print(\"Result= \",exp(n,m))"
   ]
  },
  {
   "cell_type": "code",
   "execution_count": 8,
   "metadata": {},
   "outputs": [
    {
     "name": "stdout",
     "output_type": "stream",
     "text": [
      "Fibonacci( 0 ) = 1\n",
      "Fibonacci( 1 ) = 1\n",
      "Fibonacci( 2 ) = 2\n",
      "Fibonacci( 3 ) = 3\n",
      "Fibonacci( 4 ) = 5\n",
      "Fibonacci( 5 ) = 8\n",
      "Fibonacci( 6 ) = 13\n",
      "Fibonacci( 7 ) = 21\n",
      "Fibonacci( 8 ) = 34\n",
      "Fibonacci( 9 ) = 55\n"
     ]
    }
   ],
   "source": [
    "def fibonacci(n):\n",
    "    if(n<2):\n",
    "        return 1\n",
    "    return (fibonacci(n-1) + fibonacci(n-2))\n",
    "n=int(input(\"Enter the number of terms: \"))\n",
    "for i in range(n):\n",
    "    print(\"Fibonacci(\",i,\") =\",fibonacci(i))"
   ]
  },
  {
   "cell_type": "code",
   "execution_count": null,
   "metadata": {},
   "outputs": [],
   "source": []
  }
 ],
 "metadata": {
  "interpreter": {
   "hash": "06cb67651ce969e244f20f184e33f4ddb1106793adfe07cf7ddc131c95c4012f"
  },
  "kernelspec": {
   "display_name": "Python 3.9.5 64-bit",
   "language": "python",
   "name": "python3"
  },
  "language_info": {
   "codemirror_mode": {
    "name": "ipython",
    "version": 3
   },
   "file_extension": ".py",
   "mimetype": "text/x-python",
   "name": "python",
   "nbconvert_exporter": "python",
   "pygments_lexer": "ipython3",
   "version": "3.9.5"
  },
  "orig_nbformat": 4
 },
 "nbformat": 4,
 "nbformat_minor": 2
}
