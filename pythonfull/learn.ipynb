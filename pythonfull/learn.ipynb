{
 "cells": [
  {
   "cell_type": "markdown",
   "metadata": {},
   "source": [
    "## Started learning python again "
   ]
  },
  {
   "cell_type": "code",
   "execution_count": 3,
   "metadata": {},
   "outputs": [
    {
     "name": "stdout",
     "output_type": "stream",
     "text": [
      "Sum of a and b is:  9\n"
     ]
    }
   ],
   "source": [
    "## Write a python program to add two numbers\n",
    "\n",
    "a,b=map(int,input(\"Enter two numbers: \").split())\n",
    "print(\"Sum of a and b is: \",a+b)"
   ]
  },
  {
   "cell_type": "code",
   "execution_count": 4,
   "metadata": {},
   "outputs": [
    {
     "name": "stdout",
     "output_type": "stream",
     "text": [
      "Sum of a and b is:  2\n"
     ]
    }
   ],
   "source": [
    "## to find remainder of a number\n",
    "\n",
    "a,b=map(int,input(\"Enter two numbers: \").split())\n",
    "print(\"Remainder of a divided by b is: \",a%b)"
   ]
  },
  {
   "cell_type": "code",
   "execution_count": 5,
   "metadata": {},
   "outputs": [
    {
     "name": "stdout",
     "output_type": "stream",
     "text": [
      "Avg of a and b is:  6.0\n"
     ]
    }
   ],
   "source": [
    "## To find average of two numbers \n",
    "\n",
    "\n",
    "a,b=map(int,input(\"Enter two numbers: \").split())\n",
    "print(\"Avg of a and b is: \",(a+b)/2)"
   ]
  },
  {
   "cell_type": "code",
   "execution_count": 9,
   "metadata": {},
   "outputs": [
    {
     "name": "stdout",
     "output_type": "stream",
     "text": [
      "ris\n",
      "Kris\n",
      "an\n"
     ]
    }
   ],
   "source": [
    "name=\"Krishna\"\n",
    "print(name[1:4])\n",
    "print(name[:4])\n",
    "print(name[:4:-1])"
   ]
  },
  {
   "cell_type": "code",
   "execution_count": 16,
   "metadata": {},
   "outputs": [
    {
     "name": "stdout",
     "output_type": "stream",
     "text": [
      "7\n"
     ]
    }
   ],
   "source": [
    "name =\"Krishna\"\n",
    "print(len(name))\n"
   ]
  },
  {
   "cell_type": "code",
   "execution_count": 17,
   "metadata": {},
   "outputs": [
    {
     "name": "stdout",
     "output_type": "stream",
     "text": [
      "Good Afternoon, Krishna\n"
     ]
    }
   ],
   "source": [
    "## Wish good morning\n",
    "\n",
    "nae=input(\"Enter your name: \")\n",
    "print(\"Good Afternoon, \"+name)"
   ]
  },
  {
   "cell_type": "code",
   "execution_count": 18,
   "metadata": {},
   "outputs": [
    {
     "name": "stdout",
     "output_type": "stream",
     "text": [
      "Dear Krishna\n",
      "You are selected !\n",
      "\n",
      "Date: 10/04/22\n"
     ]
    }
   ],
   "source": [
    "letter= '''Dear <|Name|>\n",
    "You are selected !\n",
    "\n",
    "Date: <|Date|>'''\n",
    "\n",
    "name=input(\"Enter your name: \")\n",
    "date=input(\"Enter the date: \")\n",
    "letter=letter.replace(\"<|Name|>\",name)\n",
    "letter=letter.replace(\"<|Date|>\",date)\n",
    "print(letter)"
   ]
  },
  {
   "cell_type": "code",
   "execution_count": 21,
   "metadata": {},
   "outputs": [
    {
     "name": "stdout",
     "output_type": "stream",
     "text": [
      "28\n",
      "This is a string with double spaces\n"
     ]
    }
   ],
   "source": [
    "st=\"This is a string with double  spaces\"\n",
    "doubleSpaces=st.find(\"  \")\n",
    "print(doubleSpaces)\n",
    "st=st.replace(\"  \",\" \")\n",
    "print(st)"
   ]
  },
  {
   "cell_type": "code",
   "execution_count": 22,
   "metadata": {},
   "outputs": [
    {
     "name": "stdout",
     "output_type": "stream",
     "text": [
      "[1, 2, 3, 4, 5]\n",
      "3\n",
      "5\n"
     ]
    }
   ],
   "source": [
    "a=[1,2,3,4,5]\n",
    "print(a)\n",
    "print(a[2])\n",
    "a[2]=5\n",
    "print(a[2])\n"
   ]
  },
  {
   "cell_type": "code",
   "execution_count": 27,
   "metadata": {},
   "outputs": [
    {
     "name": "stdout",
     "output_type": "stream",
     "text": [
      "[1, 2, 7, 8, 15, 21]\n",
      "[21, 15, 8, 7, 2, 1]\n",
      "[21, 15, 8, 7, 2, 1, 45]\n",
      "[21, 15, 50, 8, 7, 2, 1, 45]\n"
     ]
    }
   ],
   "source": [
    "list1=[1,8,7,2,21,15]\n",
    "list1.sort()\n",
    "print(list1)\n",
    "list1.reverse()\n",
    "print(list1)\n",
    "list1.append(45)\n",
    "print(list1)\n",
    "list1.insert(2,50)\n",
    "print(list1)"
   ]
  },
  {
   "cell_type": "code",
   "execution_count": 28,
   "metadata": {},
   "outputs": [
    {
     "name": "stdout",
     "output_type": "stream",
     "text": [
      "1\n"
     ]
    }
   ],
   "source": [
    "t=(1,2,4,5)\n",
    "print(t[0])\n"
   ]
  },
  {
   "cell_type": "code",
   "execution_count": 30,
   "metadata": {},
   "outputs": [
    {
     "name": "stdout",
     "output_type": "stream",
     "text": [
      "3\n"
     ]
    }
   ],
   "source": [
    "a=(7,0,8,0,0,9)\n",
    "print(a.count(0))"
   ]
  },
  {
   "cell_type": "code",
   "execution_count": 32,
   "metadata": {},
   "outputs": [
    {
     "name": "stdout",
     "output_type": "stream",
     "text": [
      "['Krishna', 'Hola', 'BBye']\n",
      "dict_values([\"Hey that's me\", 'Hello in other language', \"Okay let's end this\"])\n",
      "dict_items([('Krishna', \"Hey that's me\"), ('Hola', 'Hello in other language'), ('BBye', \"Okay let's end this\")])\n"
     ]
    }
   ],
   "source": [
    "myDict={\"Krishna\":\"Hey that's me\",\"Hola\":\"Hello in other language\",\"BBye\":\"Okay let\\'s end this\"}\n",
    "print(list(myDict.keys()))\n",
    "print(myDict.values())\n",
    "print(myDict.items())"
   ]
  },
  {
   "cell_type": "markdown",
   "metadata": {},
   "source": [
    "1. Write a Python program to print the following string in a specific format (see the output). Go to the editor\n",
    "Sample String : \"Twinkle, twinkle, little star, How I wonder what you are! Up above the world so high, Like a diamond in the sky. Twinkle, twinkle, little star, How I wonder what you are\" Output :\n",
    "\n",
    "Twinkle, twinkle, little star,\n",
    "\tHow I wonder what you are! \n",
    "\t\tUp above the world so high,   \t\t\n",
    "\t\tLike a diamond in the sky. \n",
    "Twinkle, twinkle, little star, \n",
    "\tHow I wonder what you are\n"
   ]
  },
  {
   "cell_type": "code",
   "execution_count": 33,
   "metadata": {},
   "outputs": [
    {
     "name": "stdout",
     "output_type": "stream",
     "text": [
      "Twinkle, twinkle, little star,\n",
      "\tHow I wonder what you are! \n",
      "\t\tUp above the world so high,   \t\t\n",
      "\t\tLike a diamond in the sky. \n",
      "Twinkle, twinkle, little star, \n",
      "\tHow I wonder what you are\n",
      "\n"
     ]
    }
   ],
   "source": [
    "print('''Twinkle, twinkle, little star,\n",
    "\tHow I wonder what you are! \n",
    "\t\tUp above the world so high,   \t\t\n",
    "\t\tLike a diamond in the sky. \n",
    "Twinkle, twinkle, little star, \n",
    "\tHow I wonder what you are\n",
    "''')"
   ]
  },
  {
   "cell_type": "code",
   "execution_count": 34,
   "metadata": {},
   "outputs": [
    {
     "name": "stdout",
     "output_type": "stream",
     "text": [
      "The meaning of your word is:  Box\n"
     ]
    }
   ],
   "source": [
    "myDict={\n",
    "    \"Pankha\": \"Fan\",\n",
    "    \"Dabba\": \"Box\",\n",
    "    \"Vastu\": \"Item\"\n",
    "}\n",
    "a=input(\"Enter the hindi word: \")\n",
    "print(\"The meaning of your word is: \",myDict[a])\n",
    "#below line will not thorough error if key is not present\n",
    "print(\"The meaning of your word is: \",myDict.get(a))"
   ]
  },
  {
   "cell_type": "code",
   "execution_count": 36,
   "metadata": {},
   "outputs": [
    {
     "name": "stdout",
     "output_type": "stream",
     "text": [
      "{1, 2, 3, 4, 5}\n"
     ]
    }
   ],
   "source": [
    "num1,num2,num3,num4,num5,num6,num7,num8=map(int,input(\"Enter the 8 numbers sepearted by space: \").split())\n",
    "a={num1,num2,num3,num4,num5,num6,num7,num8}\n",
    "print(a)"
   ]
  },
  {
   "cell_type": "code",
   "execution_count": 38,
   "metadata": {},
   "outputs": [
    {
     "name": "stdout",
     "output_type": "stream",
     "text": [
      "{'18', 18}\n"
     ]
    }
   ],
   "source": [
    "s={18,\"18\",'18'}\n",
    "print(s)"
   ]
  },
  {
   "cell_type": "code",
   "execution_count": 40,
   "metadata": {},
   "outputs": [
    {
     "name": "stdout",
     "output_type": "stream",
     "text": [
      "Python version= 3.8.7 (tags/v3.8.7:6503f05, Dec 21 2020, 17:59:51) [MSC v.1928 64 bit (AMD64)]\n",
      "Python version info=  sys.version_info(major=3, minor=8, micro=7, releaselevel='final', serial=0)\n"
     ]
    }
   ],
   "source": [
    "import sys\n",
    "print(\"Python version= \"+sys.version)\n",
    "\n",
    "print(\"Python version info= \",sys.version_info)"
   ]
  },
  {
   "cell_type": "code",
   "execution_count": 41,
   "metadata": {},
   "outputs": [
    {
     "name": "stdout",
     "output_type": "stream",
     "text": [
      "Current date and time: \n",
      "2022-04-10:42:39\n"
     ]
    }
   ],
   "source": [
    "import datetime\n",
    "print(\"Current date and time: \")\n",
    "now=datetime.datetime.now()\n",
    "print(now.strftime(\"%Y-%m-%d:%M:%S\"))"
   ]
  },
  {
   "cell_type": "code",
   "execution_count": 45,
   "metadata": {},
   "outputs": [
    {
     "name": "stdout",
     "output_type": "stream",
     "text": [
      "Area of circle is:  3.7994000000000008\n"
     ]
    }
   ],
   "source": [
    "r=float(input(\"Enter the radius of the circle \"))\n",
    "print(\"Area of circle is: \",3.14*r*r)"
   ]
  },
  {
   "cell_type": "code",
   "execution_count": 48,
   "metadata": {},
   "outputs": [
    {
     "name": "stdout",
     "output_type": "stream",
     "text": [
      "Mundada Krishna\n"
     ]
    }
   ],
   "source": [
    "fname=input(\"Enter first your name: \")\n",
    "lname=input(\"Enter last your name: \")\n",
    "print(lname+\" \"+fname)"
   ]
  },
  {
   "cell_type": "code",
   "execution_count": 49,
   "metadata": {},
   "outputs": [
    {
     "name": "stdout",
     "output_type": "stream",
     "text": [
      "List:  ['3', '5', '7', '23']\n",
      "Tuple:  ('3', '5', '7', '23')\n"
     ]
    }
   ],
   "source": [
    "value=input(\"Input some comma separated numbers: \")\n",
    "list=value.split(\",\")\n",
    "tuple=tuple(list)\n",
    "print('List: ',list)\n",
    "print('Tuple: ',tuple)"
   ]
  },
  {
   "cell_type": "code",
   "execution_count": 50,
   "metadata": {},
   "outputs": [
    {
     "name": "stdout",
     "output_type": "stream",
     "text": [
      "The extension of the file is: 'java'\n"
     ]
    }
   ],
   "source": [
    "filenmae=input(\"Enter the filename: \")\n",
    "f_ext=filenmae.split(\".\")\n",
    "print(\"The extension of the file is: \"+repr(f_ext[-1]) )"
   ]
  },
  {
   "cell_type": "code",
   "execution_count": 52,
   "metadata": {},
   "outputs": [
    {
     "name": "stdout",
     "output_type": "stream",
     "text": [
      "Red Black\n"
     ]
    }
   ],
   "source": [
    "color_list=[\"Red\",\"Green\",\"White\",\"Black\"]\n",
    "print(color_list[0]+\" \"+color_list[-1])"
   ]
  },
  {
   "cell_type": "code",
   "execution_count": 55,
   "metadata": {},
   "outputs": [
    {
     "name": "stdout",
     "output_type": "stream",
     "text": [
      "The examination will start from: 11 / 12 / 2014\n"
     ]
    }
   ],
   "source": [
    "exam_st_date=(11,12,2014)\n",
    "print(\"The examination will start from: %i / %i / %i\"%exam_st_date)"
   ]
  },
  {
   "cell_type": "code",
   "execution_count": 57,
   "metadata": {},
   "outputs": [
    {
     "name": "stdout",
     "output_type": "stream",
     "text": [
      "Greatest number is:  10\n"
     ]
    }
   ],
   "source": [
    "n=int(input(\"Enter number of elements: \"))\n",
    "lst=[]\n",
    "for i in range(0,n):\n",
    "    ele=int(input(\"Enter the number: \"))\n",
    "    lst.append(ele)\n",
    "lst.sort()\n",
    "print(\"Greatest number is: \",lst[-1])\n",
    "\n"
   ]
  },
  {
   "cell_type": "code",
   "execution_count": 59,
   "metadata": {},
   "outputs": [
    {
     "name": "stdout",
     "output_type": "stream",
     "text": [
      "Banana\n",
      "Watermelon\n",
      "Grapes\n",
      "Mangoes\n"
     ]
    }
   ],
   "source": [
    "fruits=['Banana','Watermelon','Grapes','Mangoes']\n",
    "i=0\n",
    "# while i<len(fruits):\n",
    "#     print(fruits[i])\n",
    "#     i=i+1\n",
    "for item in fruits:\n",
    "    print(fruits[i])\n",
    "    i=i+1"
   ]
  },
  {
   "cell_type": "code",
   "execution_count": 62,
   "metadata": {},
   "outputs": [
    {
     "name": "stdout",
     "output_type": "stream",
     "text": [
      "6 X 1 = 6\n",
      "6 X 2 = 12\n",
      "6 X 3 = 18\n",
      "6 X 4 = 24\n",
      "6 X 5 = 30\n",
      "6 X 6 = 36\n",
      "6 X 7 = 42\n",
      "6 X 8 = 48\n",
      "6 X 9 = 54\n",
      "6 X 10 = 60\n"
     ]
    }
   ],
   "source": [
    "n=int(input(\"Enter a number to print it's table: \"))\n",
    "for i in range(1,11):\n",
    "    # print(str(n)+\" * \"+str(i)+\" = \"+str(n*i))\n",
    "    print(f\"{n} X {i} = {n*i}\")"
   ]
  },
  {
   "cell_type": "code",
   "execution_count": 63,
   "metadata": {},
   "outputs": [
    {
     "name": "stdout",
     "output_type": "stream",
     "text": [
      "This number is prime\n"
     ]
    }
   ],
   "source": [
    "num=int(input(\"Enter a number: \"))\n",
    "prime=True\n",
    "for i in range(2,num):\n",
    "    if(num%i==0):\n",
    "        prime=False;\n",
    "        break;\n",
    "\n",
    "if prime:\n",
    "    print(\"This number is prime\")\n",
    "else:\n",
    "    print(\"This number is not prime\")\n",
    "\n"
   ]
  },
  {
   "cell_type": "code",
   "execution_count": 67,
   "metadata": {},
   "outputs": [
    {
     "name": "stdout",
     "output_type": "stream",
     "text": [
      "The factorial of 5 is 120\n"
     ]
    }
   ],
   "source": [
    "n=int(input(\"Enter a number to find its factorial: \"))\n",
    "factorial=1\n",
    "for i in range(1,n+1):\n",
    "    factorial=factorial*i\n",
    "print(f\"The factorial of {n} is {factorial}\")"
   ]
  },
  {
   "cell_type": "code",
   "execution_count": 71,
   "metadata": {},
   "outputs": [
    {
     "name": "stdout",
     "output_type": "stream",
     "text": [
      "    * \n",
      "   * * \n",
      "  * * * \n",
      " * * * * \n",
      "* * * * * \n"
     ]
    }
   ],
   "source": [
    "n=int(input(\"Enter a number: \"))\n",
    "k=n-1\n",
    "for i in range(0,n):\n",
    "    for j in range(0,k):\n",
    "        print(end=\" \")\n",
    "    k=k-1\n",
    "    for j in range(0,i+1):\n",
    "        print(\"* \",end=\"\")\n",
    "    print(\"\\r\")"
   ]
  },
  {
   "cell_type": "code",
   "execution_count": 72,
   "metadata": {},
   "outputs": [
    {
     "name": "stdout",
     "output_type": "stream",
     "text": [
      "*\n",
      "**\n",
      "***\n",
      "****\n"
     ]
    }
   ],
   "source": [
    "n=int(input(\"Enter a number: \"))\n",
    "for i in range(4):\n",
    "    print(\"*\"*(i+1))"
   ]
  },
  {
   "cell_type": "code",
   "execution_count": 78,
   "metadata": {},
   "outputs": [
    {
     "name": "stdout",
     "output_type": "stream",
     "text": [
      "71.5 84.75\n"
     ]
    }
   ],
   "source": [
    "def percent(marks):\n",
    "    return ((marks[0]+marks[1]+marks[2]+marks[3])/400)*100\n",
    "\n",
    "marks1=[45,78,86,77]\n",
    "per1=percent(marks1)\n",
    "\n",
    "marks2=[75,98,88,78]\n",
    "per2=percent(marks2)\n",
    "\n",
    "print(per1,per2)"
   ]
  },
  {
   "cell_type": "code",
   "execution_count": 79,
   "metadata": {},
   "outputs": [
    {
     "name": "stdout",
     "output_type": "stream",
     "text": [
      "Good Day, Krishna\n"
     ]
    }
   ],
   "source": [
    "def greet(name):\n",
    "    print(\"Good Day, \"+name)\n",
    "\n",
    "greet(\"Krishna\")"
   ]
  },
  {
   "cell_type": "code",
   "execution_count": 80,
   "metadata": {},
   "outputs": [
    {
     "name": "stdout",
     "output_type": "stream",
     "text": [
      "50\n"
     ]
    }
   ],
   "source": [
    "def mySum(num1,num2):\n",
    "    return num1+num2\n",
    "s=mySum(45,5)\n",
    "print(s)"
   ]
  },
  {
   "cell_type": "code",
   "execution_count": 85,
   "metadata": {},
   "outputs": [
    {
     "name": "stdout",
     "output_type": "stream",
     "text": [
      "5040\n"
     ]
    }
   ],
   "source": [
    "n=int(input(\"Enter a number: \"))\n",
    "# product=1\n",
    "# for i in range(n):\n",
    "#     product =product*(i+1)\n",
    "# print(product)\n",
    "def factorial_rec(n):\n",
    "    if(n==1 or n==0):\n",
    "        return 1\n",
    "    return n*factorial_rec(n-1)\n",
    "print(factorial_rec(n)) "
   ]
  },
  {
   "cell_type": "code",
   "execution_count": 87,
   "metadata": {},
   "outputs": [
    {
     "name": "stdout",
     "output_type": "stream",
     "text": [
      "10\n"
     ]
    }
   ],
   "source": [
    "def max(num1,num2,num3):\n",
    "    if(num1>num2):\n",
    "        if(num1>num3):\n",
    "            return num1\n",
    "        else:\n",
    "            return num3\n",
    "    else:\n",
    "        if(num2>num3):\n",
    "            return num2\n",
    "        else:\n",
    "            return num3\n",
    "\n",
    "num1,num2,num3=map(int,input(\"Enter three numbers: \").split())\n",
    "print(max(num1,num2,num3))\n"
   ]
  },
  {
   "cell_type": "code",
   "execution_count": 89,
   "metadata": {},
   "outputs": [
    {
     "name": "stdout",
     "output_type": "stream",
     "text": [
      "****\n",
      "***\n",
      "**\n",
      "*\n",
      "None\n"
     ]
    }
   ],
   "source": [
    "def triangle(n):\n",
    "    for i in range(n):\n",
    "        print(\"*\"*(n-i))\n",
    "print(triangle(4))"
   ]
  },
  {
   "cell_type": "code",
   "execution_count": 91,
   "metadata": {},
   "outputs": [
    {
     "name": "stdout",
     "output_type": "stream",
     "text": [
      "Hello my name is Lucifer, how are you ?\n",
      "\n"
     ]
    }
   ],
   "source": [
    "f=open('sample.txt','r')\n",
    "data=f.read()\n",
    "print(data)\n",
    "f.close()\n"
   ]
  },
  {
   "cell_type": "code",
   "execution_count": 99,
   "metadata": {},
   "outputs": [
    {
     "name": "stdout",
     "output_type": "stream",
     "text": [
      "Hello I am lucifer\n"
     ]
    }
   ],
   "source": [
    "f=open('sample1','w')\n",
    "f.write(\"Hello I am lucifer\")\n",
    "f.close()\n",
    "f=open('sample1','r')\n",
    "data=f.read()\n",
    "print(data)\n",
    "f.close()"
   ]
  },
  {
   "cell_type": "code",
   "execution_count": 100,
   "metadata": {},
   "outputs": [
    {
     "name": "stdout",
     "output_type": "stream",
     "text": [
      "Twinkle is present for 2 times\n"
     ]
    }
   ],
   "source": [
    "f=open('sample.txt')\n",
    "t=f.read()\n",
    "if 'twinkle' in t:\n",
    "    sum=t.count('twinkle')\n",
    "    print(f\"Twinkle is present for {sum} times\")\n",
    "else:\n",
    "    print(\"Twinkle is not present\")\n",
    "f.close()"
   ]
  },
  {
   "cell_type": "code",
   "execution_count": 102,
   "metadata": {},
   "outputs": [],
   "source": [
    "def game():\n",
    "    return 45\n",
    "\n",
    "score =game()\n",
    "with open('hiscore.txt') as f:\n",
    "    hiscore=int(f.read())\n",
    "\n",
    "if hiscore<score:\n",
    "    with open('hiscore.txt','w') as f:\n",
    "        f.write(str(score))"
   ]
  },
  {
   "cell_type": "code",
   "execution_count": 105,
   "metadata": {},
   "outputs": [],
   "source": [
    "for i in range(2,21):\n",
    "    with open(f\"tables/Table_of_{i}\",'w') as f:\n",
    "        for j in range(1,11):\n",
    "            f.write(f\"{i} X {j}= {i*j}\")\n",
    "            if j!=10:\n",
    "                f.write('\\n')"
   ]
  },
  {
   "cell_type": "code",
   "execution_count": 106,
   "metadata": {},
   "outputs": [],
   "source": [
    "words=['donkey','kaddu','mote']\n",
    "\n",
    "with open('sample.txt') as f:\n",
    "    content=f.read()\n",
    "\n",
    "for word in words:\n",
    "    content=content.replace(word,'#@+*@#$')\n",
    "\n",
    "    with open('sample.txt','w') as f:\n",
    "        f.write(content)"
   ]
  },
  {
   "cell_type": "code",
   "execution_count": 112,
   "metadata": {},
   "outputs": [],
   "source": [
    "import os\n",
    "oldname='sample1.txt'\n",
    "newname='changed_the_file_name.txt'\n",
    "\n",
    "with open(oldname) as f:\n",
    "    content=f.read()\n",
    "with open(newname,'w') as f:\n",
    "    f.write(content)\n",
    "\n",
    "os.remove(oldname)"
   ]
  },
  {
   "cell_type": "code",
   "execution_count": null,
   "metadata": {},
   "outputs": [],
   "source": []
  },
  {
   "cell_type": "markdown",
   "metadata": {},
   "source": [
    "## Starting OOP in Python"
   ]
  },
  {
   "cell_type": "code",
   "execution_count": 1,
   "metadata": {},
   "outputs": [
    {
     "name": "stdout",
     "output_type": "stream",
     "text": [
      "The sum of a and b is  46\n"
     ]
    }
   ],
   "source": [
    "a=12\n",
    "b=34\n",
    "print(\"The sum of a and b is \",a+b)"
   ]
  },
  {
   "cell_type": "code",
   "execution_count": 2,
   "metadata": {},
   "outputs": [
    {
     "name": "stdout",
     "output_type": "stream",
     "text": [
      "46\n"
     ]
    }
   ],
   "source": [
    "class Number:\n",
    "    def sum(self):\n",
    "        return self.a +self.b\n",
    "\n",
    "num=Number()\n",
    "num.a=12\n",
    "num.b=34\n",
    "s=num.sum()\n",
    "print(s)\n"
   ]
  },
  {
   "cell_type": "code",
   "execution_count": 4,
   "metadata": {},
   "outputs": [
    {
     "name": "stdout",
     "output_type": "stream",
     "text": [
      "Name is Krishna\n",
      "Train is Jattu Express\n"
     ]
    }
   ],
   "source": [
    "class RailwayForm:\n",
    "    formType=\"RailwayForm\"\n",
    "    def printData(self):\n",
    "        print(f'Name is {self.name}')\n",
    "        print(f'Train is {self.train}')\n",
    "\n",
    "krishnaApplication=RailwayForm()\n",
    "krishnaApplication.name='Krishna'\n",
    "krishnaApplication.train=\"Jattu Express\"\n",
    "krishnaApplication.printData()"
   ]
  },
  {
   "cell_type": "code",
   "execution_count": null,
   "metadata": {},
   "outputs": [],
   "source": [
    "class Remote():\n",
    "    pass\n",
    "\n",
    "class Player:\n",
    "    def moveRight(self):\n",
    "        pass\n",
    "    def moveLeft(self):\n",
    "        pass\n",
    "    def moveTop(self):\n",
    "        pass\n",
    "\n",
    "remote1=Remote()\n",
    "player1=Player()\n",
    "\n",
    "if(remote1.isLeftpressed()):\n",
    "    player1.moveLeft()"
   ]
  },
  {
   "cell_type": "code",
   "execution_count": 1,
   "metadata": {},
   "outputs": [
    {
     "name": "stdout",
     "output_type": "stream",
     "text": [
      "Red Black\n"
     ]
    }
   ],
   "source": [
    "color_list=['Red','Green','White','Black']\n",
    "print(color_list[0],color_list[-1])"
   ]
  },
  {
   "cell_type": "code",
   "execution_count": 4,
   "metadata": {},
   "outputs": [
    {
     "name": "stdout",
     "output_type": "stream",
     "text": [
      "The examination will start from: 11 / 12 / 2014\n"
     ]
    }
   ],
   "source": [
    "exam_st_date=(11,12,2014)\n",
    "print('The examination will start from: %i / %i / %i'%exam_st_date)"
   ]
  },
  {
   "cell_type": "code",
   "execution_count": 6,
   "metadata": {},
   "outputs": [
    {
     "name": "stdout",
     "output_type": "stream",
     "text": [
      "615\n"
     ]
    }
   ],
   "source": [
    "a=int(input(\"Input an ineteger: \"))\n",
    "n1=int('%s'%a)\n",
    "n2=int('%s%s'%(a,a))\n",
    "n3=int('%s%s%s'%(a,a,a))\n",
    "print(n1+n2+n3)"
   ]
  },
  {
   "cell_type": "code",
   "execution_count": 8,
   "metadata": {},
   "outputs": [
    {
     "name": "stdout",
     "output_type": "stream",
     "text": [
      "     July 2024\n",
      "Mo Tu We Th Fr Sa Su\n",
      " 1  2  3  4  5  6  7\n",
      " 8  9 10 11 12 13 14\n",
      "15 16 17 18 19 20 21\n",
      "22 23 24 25 26 27 28\n",
      "29 30 31\n",
      "\n"
     ]
    }
   ],
   "source": [
    "import calendar\n",
    "y=int(input(\"Input the year: \"))\n",
    "m=int(input(\"Input the month: \"))\n",
    "print(calendar.month(y,m))"
   ]
  },
  {
   "cell_type": "code",
   "execution_count": 12,
   "metadata": {},
   "outputs": [
    {
     "name": "stdout",
     "output_type": "stream",
     "text": [
      "9\n"
     ]
    }
   ],
   "source": [
    "from datetime import date\n",
    "f_date=date(2014,7,2)\n",
    "l_date=date(2014,7,11)\n",
    "delta=l_date-f_date\n",
    "print(delta.days)"
   ]
  },
  {
   "cell_type": "code",
   "execution_count": 13,
   "metadata": {},
   "outputs": [
    {
     "name": "stdout",
     "output_type": "stream",
     "text": [
      "The volume of the sphere is:  904.3199999999999\n"
     ]
    }
   ],
   "source": [
    "r=6.0\n",
    "V=4.0/3.0*3.14*r**3\n",
    "print('The volume of the sphere is: ',V)"
   ]
  },
  {
   "cell_type": "code",
   "execution_count": 2,
   "metadata": {},
   "outputs": [
    {
     "name": "stdout",
     "output_type": "stream",
     "text": [
      "[21, 40.5, 'String']\n"
     ]
    }
   ],
   "source": [
    "num=[]\n",
    "num.append(21)\n",
    "num.append(40.5)\n",
    "num.append('String')\n",
    "print(num)"
   ]
  },
  {
   "cell_type": "code",
   "execution_count": null,
   "metadata": {},
   "outputs": [],
   "source": []
  }
 ],
 "metadata": {
  "interpreter": {
   "hash": "7ec3019a7cb8f5739f8b27d55fc304c51580b268fd2b34191f81e31e11772118"
  },
  "kernelspec": {
   "display_name": "Python 3.8.7 64-bit",
   "language": "python",
   "name": "python3"
  },
  "language_info": {
   "codemirror_mode": {
    "name": "ipython",
    "version": 3
   },
   "file_extension": ".py",
   "mimetype": "text/x-python",
   "name": "python",
   "nbconvert_exporter": "python",
   "pygments_lexer": "ipython3",
   "version": "3.8.7"
  },
  "orig_nbformat": 4
 },
 "nbformat": 4,
 "nbformat_minor": 2
}
