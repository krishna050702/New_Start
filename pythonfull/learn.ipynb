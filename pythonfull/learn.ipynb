{
 "cells": [
  {
   "cell_type": "markdown",
   "metadata": {},
   "source": [
    "## Started learning python again "
   ]
  },
  {
   "cell_type": "code",
   "execution_count": 3,
   "metadata": {},
   "outputs": [
    {
     "name": "stdout",
     "output_type": "stream",
     "text": [
      "Sum of a and b is:  9\n"
     ]
    }
   ],
   "source": [
    "## Write a python program to add two numbers\n",
    "\n",
    "a,b=map(int,input(\"Enter two numbers: \").split())\n",
    "print(\"Sum of a and b is: \",a+b)"
   ]
  },
  {
   "cell_type": "code",
   "execution_count": 4,
   "metadata": {},
   "outputs": [
    {
     "name": "stdout",
     "output_type": "stream",
     "text": [
      "Sum of a and b is:  2\n"
     ]
    }
   ],
   "source": [
    "## to find remainder of a number\n",
    "\n",
    "a,b=map(int,input(\"Enter two numbers: \").split())\n",
    "print(\"Remainder of a divided by b is: \",a%b)"
   ]
  },
  {
   "cell_type": "code",
   "execution_count": 5,
   "metadata": {},
   "outputs": [
    {
     "name": "stdout",
     "output_type": "stream",
     "text": [
      "Avg of a and b is:  6.0\n"
     ]
    }
   ],
   "source": [
    "## To find average of two numbers \n",
    "\n",
    "\n",
    "a,b=map(int,input(\"Enter two numbers: \").split())\n",
    "print(\"Avg of a and b is: \",(a+b)/2)"
   ]
  },
  {
   "cell_type": "code",
   "execution_count": null,
   "metadata": {},
   "outputs": [],
   "source": []
  }
 ],
 "metadata": {
  "interpreter": {
   "hash": "7ec3019a7cb8f5739f8b27d55fc304c51580b268fd2b34191f81e31e11772118"
  },
  "kernelspec": {
   "display_name": "Python 3.8.7 64-bit",
   "language": "python",
   "name": "python3"
  },
  "language_info": {
   "codemirror_mode": {
    "name": "ipython",
    "version": 3
   },
   "file_extension": ".py",
   "mimetype": "text/x-python",
   "name": "python",
   "nbconvert_exporter": "python",
   "pygments_lexer": "ipython3",
   "version": "3.8.7"
  },
  "orig_nbformat": 4
 },
 "nbformat": 4,
 "nbformat_minor": 2
}
